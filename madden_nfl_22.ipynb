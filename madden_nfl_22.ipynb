{
 "cells": [
  {
   "cell_type": "code",
   "execution_count": 20,
   "id": "00cb74fb",
   "metadata": {},
   "outputs": [],
   "source": [
    "import matplotlib.pyplot as plt\n",
    "import seaborn as sns\n",
    "import pandas as pd\n",
    "from statsmodels import api as sm\n",
    "import warnings\n",
    "warnings.filterwarnings('ignore')"
   ]
  },
  {
   "cell_type": "markdown",
   "id": "1d2d1052",
   "metadata": {},
   "source": [
    "# What Makes a Great Football Player?\n",
    "\n",
    "**By: George Li**"
   ]
  },
  {
   "cell_type": "markdown",
   "id": "584d6289",
   "metadata": {},
   "source": [
    "### Introduction\n",
    "We'll be looking at data about teams in National Football League (NFL). For those of you living under a rock:\n",
    "\n",
    "The NFL is a professional American football league that consists of 32 teams, divided equally between the American Football Conference and the National Football Conference. The goal of each team is to win as many games out of a 17 game season as possible. Teams win games by scoring more points than their opponents. This can be done in one of five ways:\n",
    "- Touchdown (six points)\n",
    "- Field Goal (three points)\n",
    "- Two-Point Conversion (two points)\n",
    "- Extra Point (one point)\n",
    "- Safety (two points)\n",
    "- For more details: https://www.rookieroad.com/football/how-does-scoring-work/\n",
    "\n",
    "In principle, better players generally cost more, so teams that want good players need to spend more money. Teams that spend the most, theoretically, should win the most. \n",
    "\n",
    "Instead of focusing on what would make an amazing team, lets focus on the players. We will be taking a look at the players in the NFL (from the Madden NFL 21 video game) compare to eachother and to the top 200 players. We will also look at what attributes they possess, and how those attributes contribute to their overall player rating (a measure of hey impactful a player is)."
   ]
  },
  {
   "cell_type": "markdown",
   "id": "9927d189",
   "metadata": {},
   "source": [
    "# Data Collection"
   ]
  },
  {
   "cell_type": "markdown",
   "id": "44ccd770",
   "metadata": {},
   "source": [
    "### Source\n",
    "The dataset that will be used in this project will contain every NFL player from the 2022 season (2080 players total). Data on the player's attributes (out of 100) and qualitative data are given. We will be looking at a player's position, overall rating, and attributes only for this project.\n",
    "\n",
    "Dataset found on reddit: [link](reddit.com/r/Madden/comments/ouzjvd/madden_22_player_ratings_spreadsheet_fully/)\n",
    "\n",
    "Excel Spreadsheet: [link](https://docs.google.com/spreadsheets/d/1vEpaW-_7QlhFPO4UojESKpJWtvPSJL5f/edit#gid=424489096)\n",
    "\n",
    "More info on a player: [link](https://www.maddenratings.com/tom-brady)"
   ]
  },
  {
   "cell_type": "markdown",
   "id": "96421c2f",
   "metadata": {},
   "source": [
    "# Data Management"
   ]
  },
  {
   "cell_type": "markdown",
   "id": "7ca38f0f",
   "metadata": {},
   "source": [
    "### Loading the Data\n",
    "Here we just load the .csv file into a dataframe using pandas."
   ]
  },
  {
   "cell_type": "code",
   "execution_count": 21,
   "id": "5f8eb609",
   "metadata": {
    "scrolled": false
   },
   "outputs": [
    {
     "data": {
      "text/html": [
       "<div>\n",
       "<style scoped>\n",
       "    .dataframe tbody tr th:only-of-type {\n",
       "        vertical-align: middle;\n",
       "    }\n",
       "\n",
       "    .dataframe tbody tr th {\n",
       "        vertical-align: top;\n",
       "    }\n",
       "\n",
       "    .dataframe thead th {\n",
       "        text-align: right;\n",
       "    }\n",
       "</style>\n",
       "<table border=\"1\" class=\"dataframe\">\n",
       "  <thead>\n",
       "    <tr style=\"text-align: right;\">\n",
       "      <th></th>\n",
       "      <th>Unnamed: 0</th>\n",
       "      <th>Player Info</th>\n",
       "      <th>Unnamed: 2</th>\n",
       "      <th>Unnamed: 3</th>\n",
       "      <th>Unnamed: 4</th>\n",
       "      <th>Unnamed: 5</th>\n",
       "      <th>Unnamed: 6</th>\n",
       "      <th>Unnamed: 7</th>\n",
       "      <th>Unnamed: 8</th>\n",
       "      <th>Unnamed: 9</th>\n",
       "      <th>...</th>\n",
       "      <th>Unnamed: 69</th>\n",
       "      <th>Unnamed: 70</th>\n",
       "      <th>Unnamed: 71</th>\n",
       "      <th>Unnamed: 72</th>\n",
       "      <th>Unnamed: 73</th>\n",
       "      <th>Unnamed: 74</th>\n",
       "      <th>Unnamed: 75</th>\n",
       "      <th>Unnamed: 76</th>\n",
       "      <th>Unnamed: 77</th>\n",
       "      <th>Unnamed: 78</th>\n",
       "    </tr>\n",
       "  </thead>\n",
       "  <tbody>\n",
       "    <tr>\n",
       "      <th>0</th>\n",
       "      <td>#</td>\n",
       "      <td>Team</td>\n",
       "      <td>Position</td>\n",
       "      <td>Archetype</td>\n",
       "      <td>Jersey #</td>\n",
       "      <td>First Name</td>\n",
       "      <td>Last Name</td>\n",
       "      <td>Age</td>\n",
       "      <td>Height</td>\n",
       "      <td>Weight</td>\n",
       "      <td>...</td>\n",
       "      <td>Handedness</td>\n",
       "      <td>College</td>\n",
       "      <td>Portrait ID</td>\n",
       "      <td>Team ID</td>\n",
       "      <td>Primary Key</td>\n",
       "      <td>Full Name</td>\n",
       "      <td>Player Asset</td>\n",
       "      <td>Iteration</td>\n",
       "      <td>Status</td>\n",
       "      <td>BLANK</td>\n",
       "    </tr>\n",
       "    <tr>\n",
       "      <th>1</th>\n",
       "      <td>1</td>\n",
       "      <td>Packers</td>\n",
       "      <td>WR</td>\n",
       "      <td>WR_RouteRunner</td>\n",
       "      <td>17</td>\n",
       "      <td>Davante</td>\n",
       "      <td>Adams</td>\n",
       "      <td>28</td>\n",
       "      <td>73</td>\n",
       "      <td>215</td>\n",
       "      <td>...</td>\n",
       "      <td>Right</td>\n",
       "      <td>Fresno State</td>\n",
       "      <td>6328</td>\n",
       "      <td>20</td>\n",
       "      <td>10823</td>\n",
       "      <td>Davante Adams</td>\n",
       "      <td>AdamsDavante_10823</td>\n",
       "      <td>launch-ratings</td>\n",
       "      <td>published</td>\n",
       "      <td>NaN</td>\n",
       "    </tr>\n",
       "    <tr>\n",
       "      <th>2</th>\n",
       "      <td>2</td>\n",
       "      <td>Chiefs</td>\n",
       "      <td>QB</td>\n",
       "      <td>QB_Improviser</td>\n",
       "      <td>15</td>\n",
       "      <td>Patrick</td>\n",
       "      <td>Mahomes</td>\n",
       "      <td>25</td>\n",
       "      <td>75</td>\n",
       "      <td>230</td>\n",
       "      <td>...</td>\n",
       "      <td>Right</td>\n",
       "      <td>Texas Tech</td>\n",
       "      <td>8648</td>\n",
       "      <td>9</td>\n",
       "      <td>12635</td>\n",
       "      <td>Patrick Mahomes</td>\n",
       "      <td>MahomesIIPatrick_12635</td>\n",
       "      <td>launch-ratings</td>\n",
       "      <td>published</td>\n",
       "      <td>NaN</td>\n",
       "    </tr>\n",
       "    <tr>\n",
       "      <th>3</th>\n",
       "      <td>3</td>\n",
       "      <td>Chiefs</td>\n",
       "      <td>TE</td>\n",
       "      <td>TE_VerticalThreat</td>\n",
       "      <td>87</td>\n",
       "      <td>Travis</td>\n",
       "      <td>Kelce</td>\n",
       "      <td>31</td>\n",
       "      <td>77</td>\n",
       "      <td>260</td>\n",
       "      <td>...</td>\n",
       "      <td>Right</td>\n",
       "      <td>Cincinnati</td>\n",
       "      <td>5920</td>\n",
       "      <td>9</td>\n",
       "      <td>890</td>\n",
       "      <td>Travis Kelce</td>\n",
       "      <td>KelceTravis_890</td>\n",
       "      <td>launch-ratings</td>\n",
       "      <td>published</td>\n",
       "      <td>NaN</td>\n",
       "    </tr>\n",
       "    <tr>\n",
       "      <th>4</th>\n",
       "      <td>4</td>\n",
       "      <td>Rams</td>\n",
       "      <td>RE</td>\n",
       "      <td>DE_PowerRusher</td>\n",
       "      <td>99</td>\n",
       "      <td>Aaron</td>\n",
       "      <td>Donald</td>\n",
       "      <td>30</td>\n",
       "      <td>73</td>\n",
       "      <td>280</td>\n",
       "      <td>...</td>\n",
       "      <td>Right</td>\n",
       "      <td>Pittsburgh</td>\n",
       "      <td>6394</td>\n",
       "      <td>24</td>\n",
       "      <td>10852</td>\n",
       "      <td>Aaron Donald</td>\n",
       "      <td>DonaldAaron_10852</td>\n",
       "      <td>launch-ratings</td>\n",
       "      <td>published</td>\n",
       "      <td>NaN</td>\n",
       "    </tr>\n",
       "  </tbody>\n",
       "</table>\n",
       "<p>5 rows × 79 columns</p>\n",
       "</div>"
      ],
      "text/plain": [
       "  Unnamed: 0 Player Info Unnamed: 2         Unnamed: 3 Unnamed: 4  Unnamed: 5  \\\n",
       "0          #        Team   Position          Archetype   Jersey #  First Name   \n",
       "1          1     Packers         WR     WR_RouteRunner         17     Davante   \n",
       "2          2      Chiefs         QB      QB_Improviser         15     Patrick   \n",
       "3          3      Chiefs         TE  TE_VerticalThreat         87      Travis   \n",
       "4          4        Rams         RE     DE_PowerRusher         99       Aaron   \n",
       "\n",
       "  Unnamed: 6 Unnamed: 7 Unnamed: 8 Unnamed: 9  ... Unnamed: 69   Unnamed: 70  \\\n",
       "0  Last Name        Age     Height     Weight  ...  Handedness       College   \n",
       "1      Adams         28         73        215  ...       Right  Fresno State   \n",
       "2    Mahomes         25         75        230  ...       Right    Texas Tech   \n",
       "3      Kelce         31         77        260  ...       Right    Cincinnati   \n",
       "4     Donald         30         73        280  ...       Right    Pittsburgh   \n",
       "\n",
       "   Unnamed: 71 Unnamed: 72  Unnamed: 73      Unnamed: 74  \\\n",
       "0  Portrait ID     Team ID  Primary Key        Full Name   \n",
       "1         6328          20        10823    Davante Adams   \n",
       "2         8648           9        12635  Patrick Mahomes   \n",
       "3         5920           9          890     Travis Kelce   \n",
       "4         6394          24        10852     Aaron Donald   \n",
       "\n",
       "              Unnamed: 75     Unnamed: 76 Unnamed: 77 Unnamed: 78  \n",
       "0            Player Asset       Iteration      Status       BLANK  \n",
       "1      AdamsDavante_10823  launch-ratings   published         NaN  \n",
       "2  MahomesIIPatrick_12635  launch-ratings   published         NaN  \n",
       "3         KelceTravis_890  launch-ratings   published         NaN  \n",
       "4       DonaldAaron_10852  launch-ratings   published         NaN  \n",
       "\n",
       "[5 rows x 79 columns]"
      ]
     },
     "execution_count": 21,
     "metadata": {},
     "output_type": "execute_result"
    }
   ],
   "source": [
    "madden = pd.read_csv('madden.csv')\n",
    "madden.head()"
   ]
  },
  {
   "cell_type": "markdown",
   "id": "9cc1cdea",
   "metadata": {},
   "source": [
    "### Reformatting Data\n",
    "At first glance it is clear that the .csv file was not formatted correctly. This may have been due to some conversion error from .xlsx to .csv or it might have been a formatting issue on the curators part.\n",
    "\n",
    "Regardless, we must reformat the data so that it can be used."
   ]
  },
  {
   "cell_type": "code",
   "execution_count": 22,
   "id": "1bae8e83",
   "metadata": {
    "scrolled": false
   },
   "outputs": [
    {
     "data": {
      "text/html": [
       "<div>\n",
       "<style scoped>\n",
       "    .dataframe tbody tr th:only-of-type {\n",
       "        vertical-align: middle;\n",
       "    }\n",
       "\n",
       "    .dataframe tbody tr th {\n",
       "        vertical-align: top;\n",
       "    }\n",
       "\n",
       "    .dataframe thead th {\n",
       "        text-align: right;\n",
       "    }\n",
       "</style>\n",
       "<table border=\"1\" class=\"dataframe\">\n",
       "  <thead>\n",
       "    <tr style=\"text-align: right;\">\n",
       "      <th></th>\n",
       "      <th>Team</th>\n",
       "      <th>Position</th>\n",
       "      <th>Archetype</th>\n",
       "      <th>Jersey #</th>\n",
       "      <th>First Name</th>\n",
       "      <th>Last Name</th>\n",
       "      <th>Age</th>\n",
       "      <th>Height</th>\n",
       "      <th>Weight</th>\n",
       "      <th>Overall</th>\n",
       "      <th>...</th>\n",
       "      <th>Years Pro</th>\n",
       "      <th>Handedness</th>\n",
       "      <th>College</th>\n",
       "      <th>Portrait ID</th>\n",
       "      <th>Team ID</th>\n",
       "      <th>Primary Key</th>\n",
       "      <th>Full Name</th>\n",
       "      <th>Player Asset</th>\n",
       "      <th>Iteration</th>\n",
       "      <th>Status</th>\n",
       "    </tr>\n",
       "  </thead>\n",
       "  <tbody>\n",
       "    <tr>\n",
       "      <th>1</th>\n",
       "      <td>Packers</td>\n",
       "      <td>WR</td>\n",
       "      <td>WR_RouteRunner</td>\n",
       "      <td>17</td>\n",
       "      <td>Davante</td>\n",
       "      <td>Adams</td>\n",
       "      <td>28</td>\n",
       "      <td>73</td>\n",
       "      <td>215</td>\n",
       "      <td>99</td>\n",
       "      <td>...</td>\n",
       "      <td>7</td>\n",
       "      <td>Right</td>\n",
       "      <td>Fresno State</td>\n",
       "      <td>6328</td>\n",
       "      <td>20</td>\n",
       "      <td>10823</td>\n",
       "      <td>Davante Adams</td>\n",
       "      <td>AdamsDavante_10823</td>\n",
       "      <td>launch-ratings</td>\n",
       "      <td>published</td>\n",
       "    </tr>\n",
       "    <tr>\n",
       "      <th>2</th>\n",
       "      <td>Chiefs</td>\n",
       "      <td>QB</td>\n",
       "      <td>QB_Improviser</td>\n",
       "      <td>15</td>\n",
       "      <td>Patrick</td>\n",
       "      <td>Mahomes</td>\n",
       "      <td>25</td>\n",
       "      <td>75</td>\n",
       "      <td>230</td>\n",
       "      <td>99</td>\n",
       "      <td>...</td>\n",
       "      <td>4</td>\n",
       "      <td>Right</td>\n",
       "      <td>Texas Tech</td>\n",
       "      <td>8648</td>\n",
       "      <td>9</td>\n",
       "      <td>12635</td>\n",
       "      <td>Patrick Mahomes</td>\n",
       "      <td>MahomesIIPatrick_12635</td>\n",
       "      <td>launch-ratings</td>\n",
       "      <td>published</td>\n",
       "    </tr>\n",
       "    <tr>\n",
       "      <th>3</th>\n",
       "      <td>Chiefs</td>\n",
       "      <td>TE</td>\n",
       "      <td>TE_VerticalThreat</td>\n",
       "      <td>87</td>\n",
       "      <td>Travis</td>\n",
       "      <td>Kelce</td>\n",
       "      <td>31</td>\n",
       "      <td>77</td>\n",
       "      <td>260</td>\n",
       "      <td>99</td>\n",
       "      <td>...</td>\n",
       "      <td>8</td>\n",
       "      <td>Right</td>\n",
       "      <td>Cincinnati</td>\n",
       "      <td>5920</td>\n",
       "      <td>9</td>\n",
       "      <td>890</td>\n",
       "      <td>Travis Kelce</td>\n",
       "      <td>KelceTravis_890</td>\n",
       "      <td>launch-ratings</td>\n",
       "      <td>published</td>\n",
       "    </tr>\n",
       "    <tr>\n",
       "      <th>4</th>\n",
       "      <td>Rams</td>\n",
       "      <td>RE</td>\n",
       "      <td>DE_PowerRusher</td>\n",
       "      <td>99</td>\n",
       "      <td>Aaron</td>\n",
       "      <td>Donald</td>\n",
       "      <td>30</td>\n",
       "      <td>73</td>\n",
       "      <td>280</td>\n",
       "      <td>99</td>\n",
       "      <td>...</td>\n",
       "      <td>7</td>\n",
       "      <td>Right</td>\n",
       "      <td>Pittsburgh</td>\n",
       "      <td>6394</td>\n",
       "      <td>24</td>\n",
       "      <td>10852</td>\n",
       "      <td>Aaron Donald</td>\n",
       "      <td>DonaldAaron_10852</td>\n",
       "      <td>launch-ratings</td>\n",
       "      <td>published</td>\n",
       "    </tr>\n",
       "    <tr>\n",
       "      <th>5</th>\n",
       "      <td>Rams</td>\n",
       "      <td>CB</td>\n",
       "      <td>CB_MantoMan</td>\n",
       "      <td>5</td>\n",
       "      <td>Jalen</td>\n",
       "      <td>Ramsey</td>\n",
       "      <td>26</td>\n",
       "      <td>73</td>\n",
       "      <td>208</td>\n",
       "      <td>99</td>\n",
       "      <td>...</td>\n",
       "      <td>5</td>\n",
       "      <td>Right</td>\n",
       "      <td>Florida State</td>\n",
       "      <td>8185</td>\n",
       "      <td>24</td>\n",
       "      <td>17538</td>\n",
       "      <td>Jalen Ramsey</td>\n",
       "      <td>RamseyJalen_17538</td>\n",
       "      <td>launch-ratings</td>\n",
       "      <td>published</td>\n",
       "    </tr>\n",
       "  </tbody>\n",
       "</table>\n",
       "<p>5 rows × 77 columns</p>\n",
       "</div>"
      ],
      "text/plain": [
       "0     Team Position          Archetype Jersey # First Name Last Name Age  \\\n",
       "1  Packers       WR     WR_RouteRunner       17    Davante     Adams  28   \n",
       "2   Chiefs       QB      QB_Improviser       15    Patrick   Mahomes  25   \n",
       "3   Chiefs       TE  TE_VerticalThreat       87     Travis     Kelce  31   \n",
       "4     Rams       RE     DE_PowerRusher       99      Aaron    Donald  30   \n",
       "5     Rams       CB        CB_MantoMan        5      Jalen    Ramsey  26   \n",
       "\n",
       "0 Height Weight Overall  ... Years Pro Handedness        College Portrait ID  \\\n",
       "1     73    215      99  ...         7      Right   Fresno State        6328   \n",
       "2     75    230      99  ...         4      Right     Texas Tech        8648   \n",
       "3     77    260      99  ...         8      Right     Cincinnati        5920   \n",
       "4     73    280      99  ...         7      Right     Pittsburgh        6394   \n",
       "5     73    208      99  ...         5      Right  Florida State        8185   \n",
       "\n",
       "0 Team ID Primary Key        Full Name            Player Asset  \\\n",
       "1      20       10823    Davante Adams      AdamsDavante_10823   \n",
       "2       9       12635  Patrick Mahomes  MahomesIIPatrick_12635   \n",
       "3       9         890     Travis Kelce         KelceTravis_890   \n",
       "4      24       10852     Aaron Donald       DonaldAaron_10852   \n",
       "5      24       17538     Jalen Ramsey       RamseyJalen_17538   \n",
       "\n",
       "0       Iteration     Status  \n",
       "1  launch-ratings  published  \n",
       "2  launch-ratings  published  \n",
       "3  launch-ratings  published  \n",
       "4  launch-ratings  published  \n",
       "5  launch-ratings  published  \n",
       "\n",
       "[5 rows x 77 columns]"
      ]
     },
     "execution_count": 22,
     "metadata": {},
     "output_type": "execute_result"
    }
   ],
   "source": [
    "madden = madden.iloc[: , 1:-1]\n",
    "new_header = madden.iloc[0] #grab the first row for the header\n",
    "madden = madden[1:] #take the data less the header row\n",
    "madden.columns = new_header #set the header row as the df header\n",
    "madden.head()"
   ]
  },
  {
   "cell_type": "markdown",
   "id": "49846e1a",
   "metadata": {},
   "source": [
    "With a quick peek at the datatypes of each column it can be seen that we need to some further reformating such that we can properly analyze it."
   ]
  },
  {
   "cell_type": "code",
   "execution_count": 23,
   "id": "d0d44591",
   "metadata": {},
   "outputs": [
    {
     "data": {
      "text/plain": [
       "array([dtype('O')], dtype=object)"
      ]
     },
     "execution_count": 23,
     "metadata": {},
     "output_type": "execute_result"
    }
   ],
   "source": [
    "madden.dtypes.unique()"
   ]
  },
  {
   "cell_type": "markdown",
   "id": "f5ac9824",
   "metadata": {},
   "source": [
    "To do this we will simply map each of the quantitative column data types from 'object' to 'integer'"
   ]
  },
  {
   "cell_type": "code",
   "execution_count": 24,
   "id": "d879db70",
   "metadata": {},
   "outputs": [
    {
     "data": {
      "text/plain": [
       "array([dtype('O'), dtype('int32')], dtype=object)"
      ]
     },
     "execution_count": 24,
     "metadata": {},
     "output_type": "execute_result"
    }
   ],
   "source": [
    "new_dtype = {}\n",
    "cols = ['Overall', 'Speed', 'Acceleration',\n",
    "       'Agility', 'Change of Dir', 'Strength', 'Jumping', 'Awareness',\n",
    "       'Carrying', 'Break Tackle', 'Juke Move', 'Spin Move', 'Trucking',\n",
    "       'Stiff Arm', 'BC Vision', 'Catching', 'Catch In Traffic', 'Spec Catch',\n",
    "       'Release', 'Short RR', 'Medium RR', 'Deep RR', 'Throw Power',\n",
    "       'Throw Acc Short', 'Throw Acc Mid', 'Throw Acc Deep',\n",
    "       'Throw Under Pressure', 'Throw On The Run', 'Play Action', 'Break Sack',\n",
    "       'Run Block', 'Run Block Power', 'Run Block Finesse', 'Pass Block',\n",
    "       'Pass Block Power', 'Pass Block Finesse', 'Impact Blocking',\n",
    "       'Lead Blocking', 'Tackle', 'Hit Power', 'Pursuit', 'Man Coverage',\n",
    "       'Zone Coverage', 'Press', 'Play Recognition', 'Power Moves',\n",
    "       'Finesse Moves', 'Block Shedding', 'Kick Power', 'Kick Accuracy',\n",
    "       'Kick Return', 'Stamina', 'Injury', 'Toughness']\n",
    "for col in cols:\n",
    "    new_dtype[col] = 'int'\n",
    "\n",
    "madden = madden.astype(new_dtype)\n",
    "madden.dtypes.unique()"
   ]
  },
  {
   "cell_type": "markdown",
   "id": "c0eb7302",
   "metadata": {},
   "source": [
    "We can now run whatever analysis we want on this dataset."
   ]
  },
  {
   "cell_type": "markdown",
   "id": "82fd469c",
   "metadata": {},
   "source": [
    "### Overview\n",
    "Here we will take a quick peek at the data that is avaialable to us using the .describe() method using pandas."
   ]
  },
  {
   "cell_type": "code",
   "execution_count": 25,
   "id": "55be6174",
   "metadata": {
    "scrolled": true
   },
   "outputs": [
    {
     "data": {
      "text/html": [
       "<div>\n",
       "<style scoped>\n",
       "    .dataframe tbody tr th:only-of-type {\n",
       "        vertical-align: middle;\n",
       "    }\n",
       "\n",
       "    .dataframe tbody tr th {\n",
       "        vertical-align: top;\n",
       "    }\n",
       "\n",
       "    .dataframe thead th {\n",
       "        text-align: right;\n",
       "    }\n",
       "</style>\n",
       "<table border=\"1\" class=\"dataframe\">\n",
       "  <thead>\n",
       "    <tr style=\"text-align: right;\">\n",
       "      <th></th>\n",
       "      <th>Overall</th>\n",
       "      <th>Speed</th>\n",
       "      <th>Acceleration</th>\n",
       "      <th>Agility</th>\n",
       "      <th>Change of Dir</th>\n",
       "      <th>Strength</th>\n",
       "      <th>Jumping</th>\n",
       "      <th>Awareness</th>\n",
       "      <th>Carrying</th>\n",
       "      <th>Break Tackle</th>\n",
       "      <th>...</th>\n",
       "      <th>Play Recognition</th>\n",
       "      <th>Power Moves</th>\n",
       "      <th>Finesse Moves</th>\n",
       "      <th>Block Shedding</th>\n",
       "      <th>Kick Power</th>\n",
       "      <th>Kick Accuracy</th>\n",
       "      <th>Kick Return</th>\n",
       "      <th>Stamina</th>\n",
       "      <th>Injury</th>\n",
       "      <th>Toughness</th>\n",
       "    </tr>\n",
       "  </thead>\n",
       "  <tbody>\n",
       "    <tr>\n",
       "      <th>count</th>\n",
       "      <td>2080.000000</td>\n",
       "      <td>2080.000000</td>\n",
       "      <td>2080.000000</td>\n",
       "      <td>2080.000000</td>\n",
       "      <td>2080.000000</td>\n",
       "      <td>2080.000000</td>\n",
       "      <td>2080.000000</td>\n",
       "      <td>2080.000000</td>\n",
       "      <td>2080.000000</td>\n",
       "      <td>2080.000000</td>\n",
       "      <td>...</td>\n",
       "      <td>2080.000000</td>\n",
       "      <td>2080.00000</td>\n",
       "      <td>2080.000000</td>\n",
       "      <td>2080.000000</td>\n",
       "      <td>2080.000000</td>\n",
       "      <td>2080.000000</td>\n",
       "      <td>2080.000000</td>\n",
       "      <td>2080.000000</td>\n",
       "      <td>2080.000000</td>\n",
       "      <td>2080.000000</td>\n",
       "    </tr>\n",
       "    <tr>\n",
       "      <th>mean</th>\n",
       "      <td>71.756731</td>\n",
       "      <td>81.054808</td>\n",
       "      <td>85.929808</td>\n",
       "      <td>78.286058</td>\n",
       "      <td>72.042788</td>\n",
       "      <td>71.958654</td>\n",
       "      <td>80.506731</td>\n",
       "      <td>71.994231</td>\n",
       "      <td>56.542788</td>\n",
       "      <td>41.918750</td>\n",
       "      <td>...</td>\n",
       "      <td>46.495673</td>\n",
       "      <td>35.00625</td>\n",
       "      <td>35.401442</td>\n",
       "      <td>47.472596</td>\n",
       "      <td>22.676923</td>\n",
       "      <td>19.934615</td>\n",
       "      <td>33.506250</td>\n",
       "      <td>83.925000</td>\n",
       "      <td>87.873558</td>\n",
       "      <td>82.790385</td>\n",
       "    </tr>\n",
       "    <tr>\n",
       "      <th>std</th>\n",
       "      <td>8.181412</td>\n",
       "      <td>9.817080</td>\n",
       "      <td>5.376617</td>\n",
       "      <td>10.430807</td>\n",
       "      <td>13.614800</td>\n",
       "      <td>12.122758</td>\n",
       "      <td>8.952494</td>\n",
       "      <td>11.246846</td>\n",
       "      <td>17.835821</td>\n",
       "      <td>25.512838</td>\n",
       "      <td>...</td>\n",
       "      <td>26.422402</td>\n",
       "      <td>24.05854</td>\n",
       "      <td>23.326136</td>\n",
       "      <td>19.387624</td>\n",
       "      <td>15.572896</td>\n",
       "      <td>13.208709</td>\n",
       "      <td>26.885591</td>\n",
       "      <td>6.118294</td>\n",
       "      <td>3.704822</td>\n",
       "      <td>7.360392</td>\n",
       "    </tr>\n",
       "    <tr>\n",
       "      <th>min</th>\n",
       "      <td>58.000000</td>\n",
       "      <td>50.000000</td>\n",
       "      <td>63.000000</td>\n",
       "      <td>43.000000</td>\n",
       "      <td>33.000000</td>\n",
       "      <td>25.000000</td>\n",
       "      <td>25.000000</td>\n",
       "      <td>46.000000</td>\n",
       "      <td>0.000000</td>\n",
       "      <td>5.000000</td>\n",
       "      <td>...</td>\n",
       "      <td>10.000000</td>\n",
       "      <td>5.00000</td>\n",
       "      <td>5.000000</td>\n",
       "      <td>10.000000</td>\n",
       "      <td>7.000000</td>\n",
       "      <td>6.000000</td>\n",
       "      <td>5.000000</td>\n",
       "      <td>62.000000</td>\n",
       "      <td>70.000000</td>\n",
       "      <td>43.000000</td>\n",
       "    </tr>\n",
       "    <tr>\n",
       "      <th>25%</th>\n",
       "      <td>65.000000</td>\n",
       "      <td>74.000000</td>\n",
       "      <td>83.000000</td>\n",
       "      <td>72.000000</td>\n",
       "      <td>60.000000</td>\n",
       "      <td>63.000000</td>\n",
       "      <td>76.000000</td>\n",
       "      <td>63.000000</td>\n",
       "      <td>40.750000</td>\n",
       "      <td>17.000000</td>\n",
       "      <td>...</td>\n",
       "      <td>20.000000</td>\n",
       "      <td>10.00000</td>\n",
       "      <td>10.000000</td>\n",
       "      <td>30.000000</td>\n",
       "      <td>17.000000</td>\n",
       "      <td>13.000000</td>\n",
       "      <td>10.000000</td>\n",
       "      <td>80.000000</td>\n",
       "      <td>86.000000</td>\n",
       "      <td>79.000000</td>\n",
       "    </tr>\n",
       "    <tr>\n",
       "      <th>50%</th>\n",
       "      <td>70.000000</td>\n",
       "      <td>84.000000</td>\n",
       "      <td>87.000000</td>\n",
       "      <td>81.000000</td>\n",
       "      <td>75.000000</td>\n",
       "      <td>72.000000</td>\n",
       "      <td>82.000000</td>\n",
       "      <td>71.000000</td>\n",
       "      <td>59.000000</td>\n",
       "      <td>44.000000</td>\n",
       "      <td>...</td>\n",
       "      <td>54.000000</td>\n",
       "      <td>30.00000</td>\n",
       "      <td>35.000000</td>\n",
       "      <td>48.000000</td>\n",
       "      <td>19.000000</td>\n",
       "      <td>17.000000</td>\n",
       "      <td>16.500000</td>\n",
       "      <td>85.000000</td>\n",
       "      <td>88.000000</td>\n",
       "      <td>84.000000</td>\n",
       "    </tr>\n",
       "    <tr>\n",
       "      <th>75%</th>\n",
       "      <td>77.000000</td>\n",
       "      <td>89.000000</td>\n",
       "      <td>90.000000</td>\n",
       "      <td>86.000000</td>\n",
       "      <td>83.000000</td>\n",
       "      <td>82.000000</td>\n",
       "      <td>87.000000</td>\n",
       "      <td>80.000000</td>\n",
       "      <td>71.000000</td>\n",
       "      <td>67.000000</td>\n",
       "      <td>...</td>\n",
       "      <td>69.000000</td>\n",
       "      <td>58.00000</td>\n",
       "      <td>56.000000</td>\n",
       "      <td>65.000000</td>\n",
       "      <td>22.000000</td>\n",
       "      <td>21.000000</td>\n",
       "      <td>56.000000</td>\n",
       "      <td>88.000000</td>\n",
       "      <td>90.000000</td>\n",
       "      <td>87.000000</td>\n",
       "    </tr>\n",
       "    <tr>\n",
       "      <th>max</th>\n",
       "      <td>99.000000</td>\n",
       "      <td>99.000000</td>\n",
       "      <td>99.000000</td>\n",
       "      <td>98.000000</td>\n",
       "      <td>99.000000</td>\n",
       "      <td>99.000000</td>\n",
       "      <td>99.000000</td>\n",
       "      <td>99.000000</td>\n",
       "      <td>99.000000</td>\n",
       "      <td>98.000000</td>\n",
       "      <td>...</td>\n",
       "      <td>99.000000</td>\n",
       "      <td>99.00000</td>\n",
       "      <td>97.000000</td>\n",
       "      <td>97.000000</td>\n",
       "      <td>99.000000</td>\n",
       "      <td>97.000000</td>\n",
       "      <td>98.000000</td>\n",
       "      <td>99.000000</td>\n",
       "      <td>99.000000</td>\n",
       "      <td>99.000000</td>\n",
       "    </tr>\n",
       "  </tbody>\n",
       "</table>\n",
       "<p>8 rows × 54 columns</p>\n",
       "</div>"
      ],
      "text/plain": [
       "0          Overall        Speed  Acceleration      Agility  Change of Dir  \\\n",
       "count  2080.000000  2080.000000   2080.000000  2080.000000    2080.000000   \n",
       "mean     71.756731    81.054808     85.929808    78.286058      72.042788   \n",
       "std       8.181412     9.817080      5.376617    10.430807      13.614800   \n",
       "min      58.000000    50.000000     63.000000    43.000000      33.000000   \n",
       "25%      65.000000    74.000000     83.000000    72.000000      60.000000   \n",
       "50%      70.000000    84.000000     87.000000    81.000000      75.000000   \n",
       "75%      77.000000    89.000000     90.000000    86.000000      83.000000   \n",
       "max      99.000000    99.000000     99.000000    98.000000      99.000000   \n",
       "\n",
       "0         Strength      Jumping    Awareness     Carrying  Break Tackle  ...  \\\n",
       "count  2080.000000  2080.000000  2080.000000  2080.000000   2080.000000  ...   \n",
       "mean     71.958654    80.506731    71.994231    56.542788     41.918750  ...   \n",
       "std      12.122758     8.952494    11.246846    17.835821     25.512838  ...   \n",
       "min      25.000000    25.000000    46.000000     0.000000      5.000000  ...   \n",
       "25%      63.000000    76.000000    63.000000    40.750000     17.000000  ...   \n",
       "50%      72.000000    82.000000    71.000000    59.000000     44.000000  ...   \n",
       "75%      82.000000    87.000000    80.000000    71.000000     67.000000  ...   \n",
       "max      99.000000    99.000000    99.000000    99.000000     98.000000  ...   \n",
       "\n",
       "0      Play Recognition  Power Moves  Finesse Moves  Block Shedding  \\\n",
       "count       2080.000000   2080.00000    2080.000000     2080.000000   \n",
       "mean          46.495673     35.00625      35.401442       47.472596   \n",
       "std           26.422402     24.05854      23.326136       19.387624   \n",
       "min           10.000000      5.00000       5.000000       10.000000   \n",
       "25%           20.000000     10.00000      10.000000       30.000000   \n",
       "50%           54.000000     30.00000      35.000000       48.000000   \n",
       "75%           69.000000     58.00000      56.000000       65.000000   \n",
       "max           99.000000     99.00000      97.000000       97.000000   \n",
       "\n",
       "0       Kick Power  Kick Accuracy  Kick Return      Stamina       Injury  \\\n",
       "count  2080.000000    2080.000000  2080.000000  2080.000000  2080.000000   \n",
       "mean     22.676923      19.934615    33.506250    83.925000    87.873558   \n",
       "std      15.572896      13.208709    26.885591     6.118294     3.704822   \n",
       "min       7.000000       6.000000     5.000000    62.000000    70.000000   \n",
       "25%      17.000000      13.000000    10.000000    80.000000    86.000000   \n",
       "50%      19.000000      17.000000    16.500000    85.000000    88.000000   \n",
       "75%      22.000000      21.000000    56.000000    88.000000    90.000000   \n",
       "max      99.000000      97.000000    98.000000    99.000000    99.000000   \n",
       "\n",
       "0        Toughness  \n",
       "count  2080.000000  \n",
       "mean     82.790385  \n",
       "std       7.360392  \n",
       "min      43.000000  \n",
       "25%      79.000000  \n",
       "50%      84.000000  \n",
       "75%      87.000000  \n",
       "max      99.000000  \n",
       "\n",
       "[8 rows x 54 columns]"
      ]
     },
     "execution_count": 25,
     "metadata": {},
     "output_type": "execute_result"
    }
   ],
   "source": [
    "madden.describe()"
   ]
  },
  {
   "cell_type": "markdown",
   "id": "fb450874",
   "metadata": {},
   "source": [
    "# Data Analysis\n",
    "\n",
    "Basics Analysis:\n",
    "- The Mean Overall Rating for the players of 2022 is around 72\n",
    "- The majority of players have an Overall Rating in between 65 and 77"
   ]
  },
  {
   "cell_type": "markdown",
   "id": "634a962b",
   "metadata": {},
   "source": [
    "### Player Distribution\n",
    "Let's take a quick look at the player distribution in the league. For this, we will count the number of rows corresponding to each position."
   ]
  },
  {
   "cell_type": "code",
   "execution_count": 26,
   "id": "f3601b67",
   "metadata": {},
   "outputs": [
    {
     "data": {
      "image/png": "[encoded data removed]",
      "text/plain": [
       "<Figure size 864x432 with 2 Axes>"
      ]
     },
     "metadata": {
      "needs_background": "light"
     },
     "output_type": "display_data"
    }
   ],
   "source": [
    "pos_all = madden.groupby('Position')['Position'].size().reset_index(name='Count')\n",
    "pos_all['%'] = pos_all['Count']/pos_all['Count'].sum()\n",
    "\n",
    "pos_all_sorted = pos_all.sort_values('Count', ascending=False)\n",
    "\n",
    "plt.figure(figsize=(12,6))\n",
    "plt.title(\"NFL Players Based on Position\", fontsize=16)\n",
    "ax = sns.barplot(data=pos_all_sorted, x='Position', y='%')\n",
    "ax2 = ax.twinx()\n",
    "g2 = sns.barplot(data=pos_all_sorted, x= 'Position', y = 'Count', ax = ax2)\n",
    "\n",
    "plt.show()"
   ]
  },
  {
   "cell_type": "markdown",
   "id": "4a67ca7f",
   "metadata": {},
   "source": [
    "At first glance, it seems as if there are a lot more Wide Receivers and Cornerbacks than the rest, while there are very few members of the Special Team (Kickers and Punters). We will look a bit closer later on in this project."
   ]
  },
  {
   "cell_type": "markdown",
   "id": "67b41911",
   "metadata": {},
   "source": [
    "### Rating Distribution\n",
    "There are a total of 2293 players in the NFL. Let's look at the distribution of rankings amounst these players."
   ]
  },
  {
   "cell_type": "code",
   "execution_count": 37,
   "id": "1a6c642e",
   "metadata": {
    "scrolled": false
   },
   "outputs": [
    {
     "data": {
      "image/png": "[encoded data removed]",
      "text/plain": [
       "<Figure size 864x432 with 1 Axes>"
      ]
     },
     "metadata": {
      "needs_background": "light"
     },
     "output_type": "display_data"
    }
   ],
   "source": [
    "ratings = madden.groupby('Overall')['Overall'].size().reset_index(name='Count')\n",
    "\n",
    "plt.figure(figsize=(12,6))\n",
    "plt.title(\"League Rating Distribution\", fontsize=16)\n",
    "ax2 = sns.barplot(data=ratings, x='Overall', y='Count')\n",
    "ax2.set_xticklabels(ax2.get_xticklabels(),rotation = 0)\n",
    "plt.show()"
   ]
  },
  {
   "cell_type": "code",
   "execution_count": 28,
   "id": "93b30846",
   "metadata": {},
   "outputs": [
    {
     "data": {
      "text/plain": [
       "array(['C', 'CB', 'DT', 'FB', 'FS', 'HB', 'K', 'LE', 'LG', 'LOLB', 'LT',\n",
       "       'MLB', 'P', 'QB', 'RE', 'RG', 'ROLB', 'RT', 'SS', 'TE', 'WR'],\n",
       "      dtype=object)"
      ]
     },
     "execution_count": 28,
     "metadata": {},
     "output_type": "execute_result"
    }
   ],
   "source": [
    "pos_all['Position'].unique()"
   ]
  },
  {
   "cell_type": "markdown",
   "id": "96add494",
   "metadata": {},
   "source": [
    "### Next Steps\n",
    "For our next few analyses we will split the different positions into different categories:\n",
    "- Offensive Team\n",
    "    - (1) Offensive Line (LG, RG, LT, RT, C)\n",
    "    - (2) Wide Receivers and Tight Ends (WR and TE)\n",
    "    - (3) Quarterbacks (QB)\n",
    "    - (4) Half Backs and Fullbacks (HB and FB)\n",
    "- (5) Defensive Team (DT, LE, RE, MLB, ROLB, LOLB, CB, FS, and SS)\n",
    "- (6) Speacial Team (K, P)\n",
    "\n",
    "We will use these categories later on, as they will give us guidence on how to group certain positions. Special thanks to [this](https://www.rookieroad.com/football/positions/#positional-groups) for helping me compile a list of these categories.\n",
    "\n",
    "In addition, there are so many attributes that we need to take into consideration."
   ]
  },
  {
   "cell_type": "code",
   "execution_count": 29,
   "id": "90e1b7df",
   "metadata": {},
   "outputs": [
    {
     "name": "stdout",
     "output_type": "stream",
     "text": [
      "['Overall', 'Speed', 'Acceleration', 'Agility', 'Change of Dir', 'Strength', 'Jumping', 'Awareness', 'Carrying', 'Break Tackle', 'Juke Move', 'Spin Move', 'Trucking', 'Stiff Arm', 'BC Vision', 'Catching', 'Catch In Traffic', 'Spec Catch', 'Release', 'Short RR', 'Medium RR', 'Deep RR', 'Throw Power', 'Throw Acc Short', 'Throw Acc Mid', 'Throw Acc Deep', 'Throw Under Pressure', 'Throw On The Run', 'Play Action', 'Break Sack', 'Run Block', 'Run Block Power', 'Run Block Finesse', 'Pass Block', 'Pass Block Power', 'Pass Block Finesse', 'Impact Blocking', 'Lead Blocking', 'Tackle', 'Hit Power', 'Pursuit', 'Man Coverage', 'Zone Coverage', 'Press', 'Play Recognition', 'Power Moves', 'Finesse Moves', 'Block Shedding', 'Kick Power', 'Kick Accuracy', 'Kick Return', 'Stamina', 'Injury', 'Toughness']\n"
     ]
    },
    {
     "data": {
      "text/plain": [
       "54"
      ]
     },
     "execution_count": 29,
     "metadata": {},
     "output_type": "execute_result"
    }
   ],
   "source": [
    "print(cols)\n",
    "len(cols)"
   ]
  },
  {
   "attachments": {
    "Categories.png": {
     "image/png": "[encoded data removed]"
    }
   },
   "cell_type": "markdown",
   "id": "e0fc8e16",
   "metadata": {},
   "source": [
    "Above, we have the columns that represent each different attribute of each player (in addition to the player's overall rating). Clearly there are plenty of attributes to look at, but how should we categorize this?\n",
    "\n",
    "Luckily, the wonderful developers at EA have already categorized these 53 attributes for us and we will do so as follows:\n",
    "\n",
    "![Categories.png](attachment:Categories.png)"
   ]
  },
  {
   "cell_type": "code",
   "execution_count": 30,
   "id": "9fffe6ab",
   "metadata": {},
   "outputs": [],
   "source": [
    "attributes = {}\n",
    "attributes['General'] = ['Speed', 'Acceleration', 'Agility','Strength', 'Jumping', 'Awareness','Stamina', 'Injury', 'Toughness']\n",
    "attributes['Carrying'] = ['Change of Dir','Carrying','Break Tackle','Juke Move','Spin Move','Trucking','Stiff Arm', 'BC Vision','Break Sack']\n",
    "attributes['Blocking'] = ['Run Block', 'Run Block Power', 'Run Block Finesse', 'Pass Block', 'Pass Block Power', 'Pass Block Finesse', 'Impact Blocking', 'Lead Blocking']\n",
    "attributes['Passing'] = ['Throw Power', 'Throw Acc Short', 'Throw Acc Mid', 'Throw Acc Deep', 'Throw Under Pressure', 'Throw On The Run', 'Play Action']\n",
    "attributes['Defensive'] = ['Tackle', 'Hit Power', 'Pursuit', 'Man Coverage', 'Zone Coverage', 'Press', 'Play Recognition', 'Power Moves', 'Finesse Moves', 'Block Shedding']\n",
    "attributes['Kicking'] = ['Kick Power', 'Kick Accuracy', 'Kick Return']\n",
    "attributes['Recieving'] = ['Catching', 'Catch In Traffic', 'Spec Catch', 'Release', 'Short RR', 'Medium RR', 'Deep RR']"
   ]
  },
  {
   "cell_type": "markdown",
   "id": "a6bf5149",
   "metadata": {},
   "source": [
    "I addition to making these new categories, we will also calculate them for each player. We will do this by taking each category (ie. kick) and then take the average of all their subcategories (ie. 'Kick Power', 'Kick Accuracy', and 'Kick Return')."
   ]
  },
  {
   "cell_type": "code",
   "execution_count": 31,
   "id": "90e00bc5",
   "metadata": {
    "scrolled": false
   },
   "outputs": [
    {
     "data": {
      "text/html": [
       "<div>\n",
       "<style scoped>\n",
       "    .dataframe tbody tr th:only-of-type {\n",
       "        vertical-align: middle;\n",
       "    }\n",
       "\n",
       "    .dataframe tbody tr th {\n",
       "        vertical-align: top;\n",
       "    }\n",
       "\n",
       "    .dataframe thead th {\n",
       "        text-align: right;\n",
       "    }\n",
       "</style>\n",
       "<table border=\"1\" class=\"dataframe\">\n",
       "  <thead>\n",
       "    <tr style=\"text-align: right;\">\n",
       "      <th></th>\n",
       "      <th>Status</th>\n",
       "      <th>General</th>\n",
       "      <th>Blocking</th>\n",
       "      <th>Passing</th>\n",
       "      <th>Defensive</th>\n",
       "      <th>Kicking</th>\n",
       "      <th>Recieving</th>\n",
       "    </tr>\n",
       "  </thead>\n",
       "  <tbody>\n",
       "    <tr>\n",
       "      <th>1</th>\n",
       "      <td>published</td>\n",
       "      <td>89.666667</td>\n",
       "      <td>27.250</td>\n",
       "      <td>16.000000</td>\n",
       "      <td>26.6</td>\n",
       "      <td>33.333333</td>\n",
       "      <td>97.571429</td>\n",
       "    </tr>\n",
       "    <tr>\n",
       "      <th>2</th>\n",
       "      <td>published</td>\n",
       "      <td>87.111111</td>\n",
       "      <td>15.375</td>\n",
       "      <td>95.857143</td>\n",
       "      <td>19.3</td>\n",
       "      <td>13.333333</td>\n",
       "      <td>25.714286</td>\n",
       "    </tr>\n",
       "    <tr>\n",
       "      <th>3</th>\n",
       "      <td>published</td>\n",
       "      <td>89.666667</td>\n",
       "      <td>66.000</td>\n",
       "      <td>47.857143</td>\n",
       "      <td>23.3</td>\n",
       "      <td>24.333333</td>\n",
       "      <td>88.571429</td>\n",
       "    </tr>\n",
       "    <tr>\n",
       "      <th>4</th>\n",
       "      <td>published</td>\n",
       "      <td>90.222222</td>\n",
       "      <td>48.250</td>\n",
       "      <td>9.285714</td>\n",
       "      <td>74.9</td>\n",
       "      <td>18.666667</td>\n",
       "      <td>22.000000</td>\n",
       "    </tr>\n",
       "    <tr>\n",
       "      <th>5</th>\n",
       "      <td>published</td>\n",
       "      <td>89.333333</td>\n",
       "      <td>34.500</td>\n",
       "      <td>23.428571</td>\n",
       "      <td>75.8</td>\n",
       "      <td>38.333333</td>\n",
       "      <td>42.428571</td>\n",
       "    </tr>\n",
       "  </tbody>\n",
       "</table>\n",
       "</div>"
      ],
      "text/plain": [
       "0     Status    General  Blocking    Passing  Defensive    Kicking  Recieving\n",
       "1  published  89.666667    27.250  16.000000       26.6  33.333333  97.571429\n",
       "2  published  87.111111    15.375  95.857143       19.3  13.333333  25.714286\n",
       "3  published  89.666667    66.000  47.857143       23.3  24.333333  88.571429\n",
       "4  published  90.222222    48.250   9.285714       74.9  18.666667  22.000000\n",
       "5  published  89.333333    34.500  23.428571       75.8  38.333333  42.428571"
      ]
     },
     "execution_count": 31,
     "metadata": {},
     "output_type": "execute_result"
    }
   ],
   "source": [
    "for att,sub in attributes.items():\n",
    "    madden[att] = madden[sub].mean(axis=1)\n",
    "madden.iloc[: , -7:].head()"
   ]
  },
  {
   "cell_type": "markdown",
   "id": "c4dc7a25",
   "metadata": {},
   "source": [
    "Now that we have the overarching attributes all figured out, we will now plot a heat map that represents the correlations between each attribute for each category (group of positions)."
   ]
  },
  {
   "cell_type": "markdown",
   "id": "9211aa5e",
   "metadata": {},
   "source": [
    "### Preliminary Analysis\n",
    "First we will take a look at how each Attribute Group contributes to a player's Overall Rating for all players."
   ]
  },
  {
   "cell_type": "code",
   "execution_count": 32,
   "id": "fb35efea",
   "metadata": {},
   "outputs": [
    {
     "data": {
      "text/html": [
       "<div>\n",
       "<style scoped>\n",
       "    .dataframe tbody tr th:only-of-type {\n",
       "        vertical-align: middle;\n",
       "    }\n",
       "\n",
       "    .dataframe tbody tr th {\n",
       "        vertical-align: top;\n",
       "    }\n",
       "\n",
       "    .dataframe thead th {\n",
       "        text-align: right;\n",
       "    }\n",
       "</style>\n",
       "<table border=\"1\" class=\"dataframe\">\n",
       "  <thead>\n",
       "    <tr style=\"text-align: right;\">\n",
       "      <th></th>\n",
       "      <th>First Name</th>\n",
       "      <th>Last Name</th>\n",
       "      <th>Position</th>\n",
       "      <th>Overall</th>\n",
       "      <th>General</th>\n",
       "      <th>Carrying</th>\n",
       "      <th>Blocking</th>\n",
       "      <th>Passing</th>\n",
       "      <th>Defensive</th>\n",
       "      <th>Kicking</th>\n",
       "      <th>Recieving</th>\n",
       "    </tr>\n",
       "  </thead>\n",
       "  <tbody>\n",
       "    <tr>\n",
       "      <th>1</th>\n",
       "      <td>Davante</td>\n",
       "      <td>Adams</td>\n",
       "      <td>WR</td>\n",
       "      <td>99</td>\n",
       "      <td>89.666667</td>\n",
       "      <td>75.000000</td>\n",
       "      <td>27.250</td>\n",
       "      <td>16.000000</td>\n",
       "      <td>26.6</td>\n",
       "      <td>33.333333</td>\n",
       "      <td>97.571429</td>\n",
       "    </tr>\n",
       "    <tr>\n",
       "      <th>2</th>\n",
       "      <td>Patrick</td>\n",
       "      <td>Mahomes</td>\n",
       "      <td>QB</td>\n",
       "      <td>99</td>\n",
       "      <td>87.111111</td>\n",
       "      <td>72.000000</td>\n",
       "      <td>15.375</td>\n",
       "      <td>95.857143</td>\n",
       "      <td>19.3</td>\n",
       "      <td>13.333333</td>\n",
       "      <td>25.714286</td>\n",
       "    </tr>\n",
       "    <tr>\n",
       "      <th>3</th>\n",
       "      <td>Travis</td>\n",
       "      <td>Kelce</td>\n",
       "      <td>TE</td>\n",
       "      <td>99</td>\n",
       "      <td>89.666667</td>\n",
       "      <td>74.666667</td>\n",
       "      <td>66.000</td>\n",
       "      <td>47.857143</td>\n",
       "      <td>23.3</td>\n",
       "      <td>24.333333</td>\n",
       "      <td>88.571429</td>\n",
       "    </tr>\n",
       "    <tr>\n",
       "      <th>4</th>\n",
       "      <td>Aaron</td>\n",
       "      <td>Donald</td>\n",
       "      <td>RE</td>\n",
       "      <td>99</td>\n",
       "      <td>90.222222</td>\n",
       "      <td>34.333333</td>\n",
       "      <td>48.250</td>\n",
       "      <td>9.285714</td>\n",
       "      <td>74.9</td>\n",
       "      <td>18.666667</td>\n",
       "      <td>22.000000</td>\n",
       "    </tr>\n",
       "    <tr>\n",
       "      <th>5</th>\n",
       "      <td>Jalen</td>\n",
       "      <td>Ramsey</td>\n",
       "      <td>CB</td>\n",
       "      <td>99</td>\n",
       "      <td>89.333333</td>\n",
       "      <td>64.777778</td>\n",
       "      <td>34.500</td>\n",
       "      <td>23.428571</td>\n",
       "      <td>75.8</td>\n",
       "      <td>38.333333</td>\n",
       "      <td>42.428571</td>\n",
       "    </tr>\n",
       "  </tbody>\n",
       "</table>\n",
       "</div>"
      ],
      "text/plain": [
       "0 First Name Last Name Position  Overall    General   Carrying  Blocking  \\\n",
       "1    Davante     Adams       WR       99  89.666667  75.000000    27.250   \n",
       "2    Patrick   Mahomes       QB       99  87.111111  72.000000    15.375   \n",
       "3     Travis     Kelce       TE       99  89.666667  74.666667    66.000   \n",
       "4      Aaron    Donald       RE       99  90.222222  34.333333    48.250   \n",
       "5      Jalen    Ramsey       CB       99  89.333333  64.777778    34.500   \n",
       "\n",
       "0    Passing  Defensive    Kicking  Recieving  \n",
       "1  16.000000       26.6  33.333333  97.571429  \n",
       "2  95.857143       19.3  13.333333  25.714286  \n",
       "3  47.857143       23.3  24.333333  88.571429  \n",
       "4   9.285714       74.9  18.666667  22.000000  \n",
       "5  23.428571       75.8  38.333333  42.428571  "
      ]
     },
     "execution_count": 32,
     "metadata": {},
     "output_type": "execute_result"
    }
   ],
   "source": [
    "new_cols = ['First Name', 'Last Name', 'Position','Overall'] + list(attributes.keys())\n",
    "prelim = madden.copy()[new_cols] # get rid on unneeded columns\n",
    "prelim.head()"
   ]
  },
  {
   "cell_type": "markdown",
   "id": "9a2d253c",
   "metadata": {},
   "source": [
    "Now we will create a dataframe that represents the correlations between the attribute ratings + their overall rating. Then we will sns to plot this onto a heat map."
   ]
  },
  {
   "cell_type": "code",
   "execution_count": 36,
   "id": "5ec8cea6",
   "metadata": {
    "scrolled": false
   },
   "outputs": [
    {
     "data": {
      "image/png": "[encoded data removed]",
      "text/plain": [
       "<Figure size 864x576 with 2 Axes>"
      ]
     },
     "metadata": {
      "needs_background": "light"
     },
     "output_type": "display_data"
    }
   ],
   "source": [
    "rating_cols = ['Overall'] + list(attributes.keys())\n",
    "rating_corr_prelim = prelim[rating_cols]\n",
    "rating_corr_prelim = rating_corr_prelim.corr()\n",
    "rating_corr_prelim = rating_corr_prelim.iloc[:1,1:]\n",
    "plt.figure(figsize=(12,8))\n",
    "plt.title(\"Correlation Heatmap of Overall Ratings and Attributes Ratings\", fontsize=18)\n",
    "sns.heatmap(rating_corr_prelim, cbar_kws = dict(use_gridspec=False,location=\"bottom\"), cmap=sns.light_palette(\"seagreen\", as_cmap=True), square=True, annot=True)\n",
    "plt.show()"
   ]
  },
  {
   "cell_type": "markdown",
   "id": "e5e6d679",
   "metadata": {},
   "source": [
    "Looking at the surface, it seems as if there are no attributes (except maybe General Rating) that have any effect on a player's Overall Rating. Note that this is only a correlation heatmap, so we shouldn't draw any conclusions from this just yet.\n",
    "\n",
    "This is where we can use another piece of data that we are given, a player's position. More specifically, which group the postion belongs in. We can use this to see, at first glance, if there is such a attribute essential to each role in the game. As with the following Position Categories, we will take a closer look at the statistical significance for each of the Attribute Categories and their impact on a player's overal Rating later during our Hypothesis Testing.\n",
    "\n",
    "We will repeat the process for each position category, but we will skip the explainations as they are the same as above. General comments about the correlations will still be made."
   ]
  },
  {
   "cell_type": "markdown",
   "id": "ac00322e",
   "metadata": {},
   "source": [
    "### Offensive Line\n",
    "Positions:\n",
    "- Left Guard\n",
    "- Right Guard\n",
    "- Left Tackle\n",
    "- Right Tackle\n",
    "- Center\n",
    "\n",
    "We will create a new dataset with those positions included."
   ]
  },
  {
   "cell_type": "code",
   "execution_count": 34,
   "id": "9a4fd4a9",
   "metadata": {
    "scrolled": true
   },
   "outputs": [
    {
     "data": {
      "image/png": "[encoded data removed]",
      "text/plain": [
       "<Figure size 864x576 with 2 Axes>"
      ]
     },
     "metadata": {
      "needs_background": "light"
     },
     "output_type": "display_data"
    }
   ],
   "source": [
    "off_line = madden[madden['Position'].isin(['LG', 'RG', 'LT', 'RT', 'C'])]\n",
    "\n",
    "new_cols = ['First Name', 'Last Name', 'Position','Overall'] + list(attributes.keys())\n",
    "off_line = off_line[new_cols] # get rid on unneeded columns\n",
    "rating_corr_off_line = off_line[rating_cols]\n",
    "rating_corr_off_line = rating_corr_off_line.corr()\n",
    "rating_corr_off_line = rating_corr_off_line.iloc[:1,1:]\n",
    "plt.figure(figsize=(12,8))\n",
    "plt.title(\"Correlation Heatmap of Overall Ratings and Attributes Ratings\", fontsize=18)\n",
    "sns.heatmap(rating_corr_off_line, cbar_kws = dict(use_gridspec=False,location=\"bottom\"), cmap=sns.light_palette(\"seagreen\", as_cmap=True), square=True, annot=True)\n",
    "plt.show()"
   ]
  },
  {
   "cell_type": "markdown",
   "id": "07301959",
   "metadata": {},
   "source": [
    "At face value, it is clear that Blocking Rating has a strong correlation to the Overall Rating of a player that plays a position in the Offensive Line. General Rating is also well correlated with Overall Rating but, clearly, not as much."
   ]
  },
  {
   "cell_type": "markdown",
   "id": "ab2732be",
   "metadata": {},
   "source": [
    "### Wide Receivers and Tight Ends\n",
    "Positions:\n",
    "- Wide Receivers\n",
    "- Tight Ends"
   ]
  },
  {
   "cell_type": "code",
   "execution_count": 19,
   "id": "7653bb62",
   "metadata": {
    "scrolled": false
   },
   "outputs": [
    {
     "data": {
      "image/png": "[encoded data removed]",
      "text/plain": [
       "<Figure size 864x576 with 2 Axes>"
      ]
     },
     "metadata": {
      "needs_background": "light"
     },
     "output_type": "display_data"
    }
   ],
   "source": [
    "wr_n_te = madden[madden['Position'].isin(['WR', 'TE'])]\n",
    "wr_n_te = wr_n_te[new_cols] # get rid on unneeded columns\n",
    "rating_corr_wr_n_te = wr_n_te[rating_cols]\n",
    "rating_corr_wr_n_te = rating_corr_wr_n_te.corr()\n",
    "rating_corr_wr_n_te = rating_corr_wr_n_te.iloc[:1,1:]\n",
    "plt.figure(figsize=(12,8))\n",
    "plt.title(\"Correlation Heatmap of Overall Ratings and Attributes Ratings\", fontsize=18)\n",
    "sns.heatmap(rating_corr_wr_n_te, cbar_kws = dict(use_gridspec=False,location=\"bottom\"), cmap=sns.light_palette(\"seagreen\", as_cmap=True), square=True, annot=True)\n",
    "plt.show()"
   ]
  },
  {
   "cell_type": "markdown",
   "id": "460329b1",
   "metadata": {},
   "source": [
    "At face value, it is clear that Recieving Rating has a strong correlation to the Overall Rating of a player that plays Wide Reviever and Tight End. General Rating and Carrying Rating are also well correlated with Overall Rating but, clearly, not as much."
   ]
  },
  {
   "cell_type": "markdown",
   "id": "31b29907",
   "metadata": {},
   "source": [
    "### Quarterbacks\n",
    "Positions:\n",
    "- Quarterbacks"
   ]
  },
  {
   "cell_type": "code",
   "execution_count": 20,
   "id": "0e466779",
   "metadata": {
    "scrolled": false
   },
   "outputs": [
    {
     "data": {
      "image/png": "[encoded data removed]",
      "text/plain": [
       "<Figure size 864x576 with 2 Axes>"
      ]
     },
     "metadata": {
      "needs_background": "light"
     },
     "output_type": "display_data"
    }
   ],
   "source": [
    "QBs = madden[madden['Position'].isin(['QB'])]\n",
    "\n",
    "QBs = QBs[new_cols] # get rid on unneeded columns\n",
    "rating_corr_QB = QBs[rating_cols]\n",
    "rating_corr_QB = rating_corr_QB.corr()\n",
    "rating_corr_QB = rating_corr_QB.iloc[:1,1:]\n",
    "plt.figure(figsize=(12,8))\n",
    "plt.title(\"Correlation Heatmap of Overall Ratings and Attributes Ratings\", fontsize=18)\n",
    "sns.heatmap(rating_corr_QB, cbar_kws = dict(use_gridspec=False,location=\"bottom\"), cmap=sns.light_palette(\"seagreen\", as_cmap=True), square=True, annot=True)\n",
    "plt.show()"
   ]
  },
  {
   "cell_type": "markdown",
   "id": "718b6978",
   "metadata": {},
   "source": [
    "At face value, it is clear that Passing Rating has a strong correlation to the Overall Rating of a player that plays Quarterback. General Rating is also well correlated with Overall Rating but, clearly, not as much."
   ]
  },
  {
   "cell_type": "markdown",
   "id": "58bd0a67",
   "metadata": {},
   "source": [
    "### Half Backs and Fullbacks\n",
    "Positions:\n",
    "- Halfbacks\n",
    "- Fullbacks"
   ]
  },
  {
   "cell_type": "code",
   "execution_count": 21,
   "id": "68f06c17",
   "metadata": {
    "scrolled": false
   },
   "outputs": [
    {
     "data": {
      "image/png": "[encoded data removed]",
      "text/plain": [
       "<Figure size 864x576 with 2 Axes>"
      ]
     },
     "metadata": {
      "needs_background": "light"
     },
     "output_type": "display_data"
    }
   ],
   "source": [
    "hb_n_fb = madden[madden['Position'].isin(['HB','FB'])]\n",
    "\n",
    "hb_n_fb = hb_n_fb[new_cols] # get rid on unneeded columns\n",
    "rating_corr_hb_n_fb = hb_n_fb[rating_cols]\n",
    "rating_corr_hb_n_fb = rating_corr_hb_n_fb.corr()\n",
    "rating_corr_hb_n_fb = rating_corr_hb_n_fb.iloc[:1,1:]\n",
    "plt.figure(figsize=(12,8))\n",
    "plt.title(\"Correlation Heatmap of Overall Ratings and Attributes Ratings\", fontsize=18)\n",
    "sns.heatmap(rating_corr_hb_n_fb, cbar_kws = dict(use_gridspec=False,location=\"bottom\"), cmap=sns.light_palette(\"seagreen\", as_cmap=True), square=True, annot=True)\n",
    "plt.show()"
   ]
  },
  {
   "cell_type": "markdown",
   "id": "b9f7a55a",
   "metadata": {},
   "source": [
    "At face value, it is clear that General Rating has a strong correlation to the Overall Rating of a player that plays Halfback or Fullback. Carrying Rating is also well correlated with Overall Rating but, clearly, not as much."
   ]
  },
  {
   "cell_type": "markdown",
   "id": "d350e017",
   "metadata": {},
   "source": [
    "### Defensive Team\n",
    "Positions:\n",
    "- Defensive Tackle\n",
    "- Left Ends\n",
    "- Right Ends\n",
    "- Middle Linebackers\n",
    "- Right Outside Linebacker\n",
    "- Left Outside Linebacker\n",
    "- Cornerbacks\n",
    "- Free Safties\n",
    "- Safties"
   ]
  },
  {
   "cell_type": "code",
   "execution_count": 22,
   "id": "5e835b2e",
   "metadata": {
    "scrolled": true
   },
   "outputs": [
    {
     "data": {
      "image/png": "[encoded data removed]",
      "text/plain": [
       "<Figure size 864x576 with 2 Axes>"
      ]
     },
     "metadata": {
      "needs_background": "light"
     },
     "output_type": "display_data"
    }
   ],
   "source": [
    "def_team = madden[madden['Position'].isin(['DT','LE','RE','MLB','ROLB', 'LOLB','CB','FS', 'SS'])]\n",
    "\n",
    "def_team = def_team[new_cols] # get rid on unneeded columns\n",
    "rating_corr_def_team = def_team[rating_cols]\n",
    "rating_corr_def_team = rating_corr_def_team.corr()\n",
    "rating_corr_def_team = rating_corr_def_team.iloc[:1,1:]\n",
    "plt.figure(figsize=(12,8))\n",
    "plt.title(\"Correlation Heatmap of Overall Ratings and Attributes Ratings\", fontsize=18)\n",
    "sns.heatmap(rating_corr_def_team, cbar_kws = dict(use_gridspec=False,location=\"bottom\"), cmap=sns.light_palette(\"seagreen\", as_cmap=True), square=True, annot=True)\n",
    "plt.show()"
   ]
  },
  {
   "cell_type": "markdown",
   "id": "92da690d",
   "metadata": {},
   "source": [
    "At face value, it is clear that Defensive Rating and General Rating has a strong correlation to the Overall Rating of a player that plays for the Defensive Team."
   ]
  },
  {
   "cell_type": "markdown",
   "id": "bae0b8d7",
   "metadata": {},
   "source": [
    "### Special Team\n",
    "Positions:\n",
    "- Kickers\n",
    "- Punters"
   ]
  },
  {
   "cell_type": "code",
   "execution_count": 23,
   "id": "bde4ebd3",
   "metadata": {
    "scrolled": false
   },
   "outputs": [
    {
     "data": {
      "image/png": "[encoded data removed]",
      "text/plain": [
       "<Figure size 864x576 with 2 Axes>"
      ]
     },
     "metadata": {
      "needs_background": "light"
     },
     "output_type": "display_data"
    }
   ],
   "source": [
    "special = madden[madden['Position'].isin(['K','P'])]\n",
    "\n",
    "special = special[new_cols] # get rid on unneeded columns\n",
    "rating_corr_special = special[rating_cols]\n",
    "rating_corr_special = rating_corr_special.corr()\n",
    "rating_corr_special = rating_corr_special.iloc[:1,1:]\n",
    "plt.figure(figsize=(12,8))\n",
    "plt.title(\"Correlation Heatmap of Overall Ratings and Attributes Ratings\", fontsize=18)\n",
    "sns.heatmap(rating_corr_special, cbar_kws = dict(use_gridspec=False,location=\"bottom\"), cmap=sns.light_palette(\"seagreen\", as_cmap=True), square=True, annot=True)\n",
    "plt.show()"
   ]
  },
  {
   "cell_type": "markdown",
   "id": "247c6312",
   "metadata": {},
   "source": [
    "At face value, it is clear that Kicking Rating has a strong correlation to the Overall Rating of a player that plays on the Special Team. It looks as if nothing else has any impact on a Special Team's Overall Rating."
   ]
  },
  {
   "cell_type": "markdown",
   "id": "27f9df95",
   "metadata": {},
   "source": [
    "Now that we have a general idea as to which attributes benefit which roles in the game, let's dive a bit deeper and run some tests."
   ]
  },
  {
   "cell_type": "markdown",
   "id": "d2ee23a4",
   "metadata": {},
   "source": [
    "# Hypothesis Testing"
   ]
  },
  {
   "cell_type": "markdown",
   "id": "b19d6617",
   "metadata": {},
   "source": [
    "Looking at the 7 different attribute category ratings, we will evaluate the impact of those ratings on a player's Overall Rating.\n",
    "\n",
    "### Null Hypothesis\n",
    "We contend that the player's attribute ratings have no statistical influence on a players Overall Rating.\n",
    "\n",
    "### Testing\n",
    "Because our distribution is not normal and is right-skewed (Gumbel distribution), we will have to be cautious when selecting a testing method.\n",
    "Doing this with statsmodel's OLS. \n",
    "\n",
    "### Ordinary Least Squares Regression (OLS)\n",
    "The OLS regression technique is a type of Supervised learning that we will perform on our dataset to try and predict a player's Overall Rating based on one of the 7 position groups we had made earlier: 'General', 'Carrying', 'Blocking', 'Passing', 'Defensive', 'Kicking', and 'Recieving' Ratings. This is done using a regression line generated by this technique.\n",
    "\n",
    "At the most basic level, the OLS regression technique creates a model that minimizes the sum of the squared errors between the observed data and the predicted one. \n",
    "\n",
    "**Note: instead of using the OLS_Model.summary() for each of the roles, we will just pick out the p-values, as they are what is important for our test**\n",
    "\n",
    "### Variables\n",
    "We will be testing to see if a player's Overall Rating is dependent on the players's individual Atributes for each role in the game."
   ]
  },
  {
   "cell_type": "markdown",
   "id": "51e7f501",
   "metadata": {},
   "source": [
    "### OLS for the Offensive Line"
   ]
  },
  {
   "cell_type": "code",
   "execution_count": 24,
   "id": "18dd1a02",
   "metadata": {},
   "outputs": [
    {
     "data": {
      "text/plain": [
       "const        0.000\n",
       "General      0.007\n",
       "Carrying     0.074\n",
       "Blocking     0.000\n",
       "Passing      0.540\n",
       "Defensive    0.168\n",
       "Kicking      0.549\n",
       "Recieving    0.013\n",
       "dtype: float64"
      ]
     },
     "execution_count": 24,
     "metadata": {},
     "output_type": "execute_result"
    }
   ],
   "source": [
    "X = off_line[list(attributes.keys())]\n",
    "y = off_line['Overall']\n",
    "X = sm.add_constant(X)\n",
    "# use Ordinary Least Squares\n",
    "OLS_model = sm.OLS(y,X).fit()\n",
    "round(OLS_model.pvalues, 3)"
   ]
  },
  {
   "cell_type": "markdown",
   "id": "12a56474",
   "metadata": {},
   "source": [
    "For the Offensive Line, we can reject the null hypothesis. For we can see clearly that there are multiple Attribute Categories that effect an Offensive Lineman's Overall Rating.\n",
    "\n",
    "In fact, there are 3 Attributes that a player's overall rating is dependent on: General Rating, Blocking Rating, and Recieving Rating. For each of them have a p-value of .05 or less.\n",
    "\n",
    "Therefore, for the Offensive Line, we can reject the null hypothesis."
   ]
  },
  {
   "cell_type": "markdown",
   "id": "06cc92c5",
   "metadata": {},
   "source": [
    "### OLS for Wide Receivers and Tight Ends"
   ]
  },
  {
   "cell_type": "code",
   "execution_count": 25,
   "id": "5c001b8c",
   "metadata": {},
   "outputs": [
    {
     "data": {
      "text/plain": [
       "const        0.000\n",
       "General      0.000\n",
       "Carrying     0.003\n",
       "Blocking     0.000\n",
       "Passing      0.911\n",
       "Defensive    0.002\n",
       "Kicking      0.017\n",
       "Recieving    0.000\n",
       "dtype: float64"
      ]
     },
     "execution_count": 25,
     "metadata": {},
     "output_type": "execute_result"
    }
   ],
   "source": [
    "X = wr_n_te[list(attributes.keys())]\n",
    "y = wr_n_te['Overall']\n",
    "X = sm.add_constant(X)\n",
    "# use Ordinary Least Squares\n",
    "OLS_model = sm.OLS(y,X).fit()\n",
    "round(OLS_model.pvalues, 3)"
   ]
  },
  {
   "cell_type": "markdown",
   "id": "e180b32f",
   "metadata": {},
   "source": [
    "This time, all but one of the attribute categories (Passing Rating) effect the player's Overall Rating.\n",
    "\n",
    "Therefore, for Wide Receivers and Tight Ends, we can reject the null hypothesis."
   ]
  },
  {
   "cell_type": "markdown",
   "id": "a4c4ab93",
   "metadata": {},
   "source": [
    "### OLS for the Quarterback"
   ]
  },
  {
   "cell_type": "code",
   "execution_count": 26,
   "id": "f8456672",
   "metadata": {},
   "outputs": [
    {
     "data": {
      "text/plain": [
       "const        0.000\n",
       "General      0.010\n",
       "Carrying     0.588\n",
       "Blocking     0.613\n",
       "Passing      0.000\n",
       "Defensive    0.479\n",
       "Kicking      0.550\n",
       "Recieving    0.772\n",
       "dtype: float64"
      ]
     },
     "execution_count": 26,
     "metadata": {},
     "output_type": "execute_result"
    }
   ],
   "source": [
    "X = QBs[list(attributes.keys())]\n",
    "y = QBs['Overall']\n",
    "X = sm.add_constant(X)\n",
    "# use Ordinary Least Squares\n",
    "OLS_model = sm.OLS(y,X).fit()\n",
    "round(OLS_model.pvalues, 3)"
   ]
  },
  {
   "cell_type": "markdown",
   "id": "bc9f56e6",
   "metadata": {},
   "source": [
    "Here, there are 2 Attributes that a player's overall rating is dependent on: General Rating and Passing Rating. For each of them have a p-value of .05 or less.\n",
    "\n",
    "Therefore, for the Quarterback, we can reject the null hypothesis."
   ]
  },
  {
   "cell_type": "markdown",
   "id": "4c3d1cb4",
   "metadata": {},
   "source": [
    "### OLS for Half Backs and Fullbacks"
   ]
  },
  {
   "cell_type": "code",
   "execution_count": 27,
   "id": "8c801878",
   "metadata": {},
   "outputs": [
    {
     "data": {
      "text/plain": [
       "const        0.000\n",
       "General      0.000\n",
       "Carrying     0.002\n",
       "Blocking     0.004\n",
       "Passing      0.013\n",
       "Defensive    0.078\n",
       "Kicking      0.067\n",
       "Recieving    0.001\n",
       "dtype: float64"
      ]
     },
     "execution_count": 27,
     "metadata": {},
     "output_type": "execute_result"
    }
   ],
   "source": [
    "X = hb_n_fb[list(attributes.keys())]\n",
    "y = hb_n_fb['Overall']\n",
    "X = sm.add_constant(X)\n",
    "# use Ordinary Least Squares\n",
    "OLS_model = sm.OLS(y,X).fit()\n",
    "round(OLS_model.pvalues, 3)"
   ]
  },
  {
   "cell_type": "markdown",
   "id": "65a5d721",
   "metadata": {},
   "source": [
    "Now, there are 5 Attributes that a player's overall rating is dependent on: General Rating, Carrying Rating, Blocking Rating, Passing Rating, and Recieving Rating. For each of them have a p-value of .05 or less.\n",
    "\n",
    "Therefore, for Half Backs and Fullbacks, we can reject the null hypothesis."
   ]
  },
  {
   "cell_type": "markdown",
   "id": "b22ab19d",
   "metadata": {},
   "source": [
    "### OLS for the Defensive Team"
   ]
  },
  {
   "cell_type": "code",
   "execution_count": 28,
   "id": "a15123d9",
   "metadata": {},
   "outputs": [
    {
     "data": {
      "text/plain": [
       "const        0.000\n",
       "General      0.000\n",
       "Carrying     0.000\n",
       "Blocking     0.001\n",
       "Passing      0.435\n",
       "Defensive    0.000\n",
       "Kicking      0.000\n",
       "Recieving    0.005\n",
       "dtype: float64"
      ]
     },
     "execution_count": 28,
     "metadata": {},
     "output_type": "execute_result"
    }
   ],
   "source": [
    "X = def_team[list(attributes.keys())]\n",
    "y = def_team['Overall']\n",
    "X = sm.add_constant(X)\n",
    "# use Ordinary Least Squares\n",
    "OLS_model = sm.OLS(y,X).fit()\n",
    "round(OLS_model.pvalues, 3)"
   ]
  },
  {
   "cell_type": "markdown",
   "id": "dad6f66f",
   "metadata": {},
   "source": [
    "This time, all but one of the attribute categories (Passing Rating) effect the player's Overall Rating.\n",
    "\n",
    "Therefore, for the Defensive Team, we can reject the null hypothesis."
   ]
  },
  {
   "cell_type": "markdown",
   "id": "38b6c49a",
   "metadata": {},
   "source": [
    "### OLS for the Special Team"
   ]
  },
  {
   "cell_type": "code",
   "execution_count": 29,
   "id": "b4eb4347",
   "metadata": {},
   "outputs": [
    {
     "data": {
      "text/plain": [
       "const        0.000\n",
       "General      0.590\n",
       "Carrying     0.296\n",
       "Blocking     0.393\n",
       "Passing      0.272\n",
       "Defensive    0.160\n",
       "Kicking      0.000\n",
       "Recieving    0.966\n",
       "dtype: float64"
      ]
     },
     "execution_count": 29,
     "metadata": {},
     "output_type": "execute_result"
    }
   ],
   "source": [
    "X = special[list(attributes.keys())]\n",
    "y = special['Overall']\n",
    "X = sm.add_constant(X)\n",
    "# use Ordinary Least Squares\n",
    "OLS_model = sm.OLS(y,X).fit()\n",
    "round(OLS_model.pvalues, 3)"
   ]
  },
  {
   "cell_type": "markdown",
   "id": "bc1f1326",
   "metadata": {},
   "source": [
    "Finally for the Special Team, just one of the attribute categories (Kicking Rating) effect the player's Overall Rating. This is expected, since they are only on the team to kick the football.\n",
    "\n",
    "Thus, for the Special Team (and hereby all Position Categories), we can reject the null hypothesis."
   ]
  },
  {
   "cell_type": "markdown",
   "id": "7f727ab2",
   "metadata": {},
   "source": [
    "### Big Thanks\n",
    "To the folks over at [Data to Fish](https://datatofish.com/multiple-linear-regression-python/) for their tutorial on how to perform the Linear Regressions above."
   ]
  },
  {
   "cell_type": "markdown",
   "id": "da95b1fb",
   "metadata": {},
   "source": [
    "# Insights"
   ]
  },
  {
   "cell_type": "markdown",
   "id": "adeafcc6",
   "metadata": {},
   "source": [
    "Comparing each of the heatmaps to their respective linear regression models, we can make some conclusions based on the findings.\n",
    "\n",
    "### Quarterback and Special Team\n",
    "- The Quarterback is expected to have an excellent throw (Passing Rating) and should be relatively athletic (General Rating)\n",
    "- The Special Team is expected to have good kicking skills (Kicking Rating)\n",
    "\n",
    "For these position categories, what was expected of the groups was met in both the correlation and linear regression models.\n",
    "\n",
    "### Offensive Line + Halfbacks and Fullbacks\n",
    "- The Offensive Line is expected to keep the Quarterback safe as long as the ball is still in their hands (Blocking Rating) and should be generally athletic (General Rating)\n",
    "- The Halfbacks and Fullbacks are expected to have excellent carrying potential (Carrying Rating), decent throwing capabilities (Passing Rating), some catching skills (Receiving Rating) and to be generally athletic (General Rating)\n",
    "\n",
    "All of these expectations are met by the two groups, but some extra attributes seem to impact a player's overall rating as well. For these groups, they seemingly have one hidden skill that is essential to their roles.\n",
    "\n",
    "From the linear regression models, it shows that:\n",
    "- The Offensive Line's catching ability (Receiving Rating) has a statistically significant impact on a the player's Overall Rating\n",
    "    - This could be due to the fact that there are times where a team knows that their main receivers will be hunted down, and they have no choice but to declare one of their offensive linemen as an eligible reciever\n",
    "    - At this point, this could be what seperates good offensive linemen from great ones\n",
    "- The Halfbacks and Fullbacks blocking abilities (Blocking Rating) also play a role in their Overall Ratings\n",
    "    - This could be due to the fact that one of the Fullback's roles on the field is to act as an extra blocker for the Quarterback\n",
    "\n",
    "### Wide Receivers and Tight Ends + Defensive Team\n",
    "- Wide Recievers and Tight Ends are expected to be athletic (General Rating), excellent carriers (Carrying Rating), and exceotional catchers (Receiving Rating)\n",
    "- The Defensive Team is expected to be strong (General Rating) and have excellent skills at stopping the other team from making plays (Defensive Rating)\n",
    "\n",
    "While these expectations are certainly met by the players on their respective groups, it takes a lot more than just those generics when it comes to a good player (of those categories). If we take a closer look at the regression models, it shows that both groups need to be extremely versitile and proficient in almost every category.\n",
    "\n",
    "Now this could be due to one of many things, I will go over two of them.\n",
    "\n",
    "The first of which is that these positions underrepresent the total player base in the league. Let's take a look. Meaning that there are more players that play these positions than we think."
   ]
  },
  {
   "cell_type": "code",
   "execution_count": 30,
   "id": "b619b20b",
   "metadata": {},
   "outputs": [
    {
     "data": {
      "text/plain": [
       "Position        TEWR\n",
       "Count            404\n",
       "%           0.194231\n",
       "dtype: object"
      ]
     },
     "execution_count": 30,
     "metadata": {},
     "output_type": "execute_result"
    }
   ],
   "source": [
    "pos_all[pos_all['Position'].isin(['WR','TE'])].sum()"
   ]
  },
  {
   "cell_type": "code",
   "execution_count": 31,
   "id": "ae2185fa",
   "metadata": {},
   "outputs": [
    {
     "data": {
      "text/plain": [
       "Position    CBDTFSLELOLBMLBREROLBSS\n",
       "Count                          1076\n",
       "%                          0.517308\n",
       "dtype: object"
      ]
     },
     "execution_count": 31,
     "metadata": {},
     "output_type": "execute_result"
    }
   ],
   "source": [
    "pos_all[pos_all['Position'].isin(['DT','LE','RE','MLB','ROLB', 'LOLB','CB','FS', 'SS'])].sum()"
   ]
  },
  {
   "cell_type": "markdown",
   "id": "f02b93a5",
   "metadata": {},
   "source": [
    "Note that there are 21 positions in Madden 22.\n",
    "\n",
    "This means that the Wide Receivers and Tight Ends make up a way bigger portion of the overall league than their roles dictate by over 100% (compared to if each position had equal numbers of players). This would explain the vast variety of skills that the players of that position have since the skillsets are spread over a whole variety of players.\n",
    "\n",
    "If we think about it this makes sense since it is well known that the Wide Receiver is the least important position in NFL. This is because it is very hard to impact the game as a Wide Receiver (unlike the QB), and it is due to the fact that they are the most replacable. Tight Ends are hybrid players, playing both the role of the Offensive Lineman and a Receiver. This would also add to the versatility of this position group.\n",
    "\n",
    "For the defensive team, we cannot make this same insight (since half of the roles make up about half of the players already). But, since we had grouped together so many players based on their expected traits, we may have overfitted the data (just for the defensive team) to some degree.\n",
    "\n",
    "### Takeaways\n",
    "Even so, I think the most important thing derived from this project is that correlations should not be taken as anything but a correlation. For all we know, they might just be coincidences.\n",
    "\n",
    "Although those correlations did give us a good idea as to what makes a good player (for each position group), the linear regression models revealed that there is more depth than just the correlations. Certain correlations could have canceled eachother out in order to hide special bonuses that a typical player would miss (this would certainly be an impressive feat if it were the case).\n",
    "\n",
    "But, even so it can be reasonably assumed that a player's Overall Rating was somehow calculated from the 53 attributes given to them by the game developers of Madden. To what degree is each attribute weighted is company secret. Thus, we can only speculate on how the math is done."
   ]
  }
 ],
 "metadata": {
  "kernelspec": {
   "display_name": "Python 3 (ipykernel)",
   "language": "python",
   "name": "python3"
  },
  "language_info": {
   "codemirror_mode": {
    "name": "ipython",
    "version": 3
   },
   "file_extension": ".py",
   "mimetype": "text/x-python",
   "name": "python",
   "nbconvert_exporter": "python",
   "pygments_lexer": "ipython3",
   "version": "3.9.7"
  }
 },
 "nbformat": 4,
 "nbformat_minor": 5
}
